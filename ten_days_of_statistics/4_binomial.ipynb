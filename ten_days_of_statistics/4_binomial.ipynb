{
 "cells": [
  {
   "cell_type": "markdown",
   "metadata": {},
   "source": [
    "# Day 4"
   ]
  },
  {
   "cell_type": "markdown",
   "metadata": {},
   "source": [
    "## Binomial Distribution I\n",
    "The ratio of boys to girls for babies born in Russia is 1:09:1. If there is 1 child born per birth, what proportion of Russian families with exactly 6 children will have at least 3 boys?"
   ]
  },
  {
   "cell_type": "markdown",
   "metadata": {},
   "source": [
    "### Input"
   ]
  },
  {
   "cell_type": "code",
   "execution_count": 17,
   "metadata": {},
   "outputs": [],
   "source": [
    "from io import StringIO"
   ]
  },
  {
   "cell_type": "code",
   "execution_count": 18,
   "metadata": {},
   "outputs": [],
   "source": [
    "example_bdst = lambda: StringIO('1.09 1')"
   ]
  },
  {
   "cell_type": "markdown",
   "metadata": {},
   "source": [
    "### Solution"
   ]
  },
  {
   "cell_type": "code",
   "execution_count": 27,
   "metadata": {},
   "outputs": [],
   "source": [
    "import math\n",
    "comb = lambda n, r: math.factorial(n) / (math.factorial(r) * math.factorial(n - r))\n",
    "def b(x, n, p):\n",
    "    return comb(n, x) * (p ** x) * ((1 - p) ** (n - x)) "
   ]
  },
  {
   "cell_type": "markdown",
   "metadata": {},
   "source": [
    "### Output"
   ]
  },
  {
   "cell_type": "code",
   "execution_count": 20,
   "metadata": {},
   "outputs": [],
   "source": [
    "def solve_bdst(stream):\n",
    "    ratio_boy, ratio_girl = map(float, stream.readline().split())\n",
    "    n = 6\n",
    "    p_boy = ratio_boy / (ratio_boy + ratio_girl)\n",
    "    print('{:.3f}'.format(b(3, n, p_boy) + b(4, n, p_boy) + b(5, n, p_boy) + b(6, n, p_boy)))\n",
    "    "
   ]
  },
  {
   "cell_type": "code",
   "execution_count": 21,
   "metadata": {},
   "outputs": [
    {
     "name": "stdout",
     "output_type": "stream",
     "text": [
      "0.696\n"
     ]
    }
   ],
   "source": [
    "solve_bdst(example_bdst())"
   ]
  },
  {
   "cell_type": "code",
   "execution_count": null,
   "metadata": {},
   "outputs": [],
   "source": []
  },
  {
   "cell_type": "markdown",
   "metadata": {},
   "source": [
    "## Binomial Distribution II\n",
    "A manufacturer of metal pistons finds that, on average, 12% of the pistons they manufacture are rejected because they are incorrectly sized. What is the probability that a batch of 10 pistons will contain:\n",
    "\n",
    "    No more than 2 rejects?\n",
    "    At least 2 rejects?\n"
   ]
  },
  {
   "cell_type": "markdown",
   "metadata": {},
   "source": [
    "### Input"
   ]
  },
  {
   "cell_type": "code",
   "execution_count": 43,
   "metadata": {},
   "outputs": [],
   "source": [
    "from io import StringIO"
   ]
  },
  {
   "cell_type": "code",
   "execution_count": 44,
   "metadata": {},
   "outputs": [],
   "source": [
    "example_bdst_2 = lambda: StringIO('12 10')"
   ]
  },
  {
   "cell_type": "markdown",
   "metadata": {},
   "source": [
    "### Solution"
   ]
  },
  {
   "cell_type": "code",
   "execution_count": 35,
   "metadata": {},
   "outputs": [],
   "source": [
    "comb = lambda n, r: math.factorial(n) / (math.factorial(r) * math.factorial(n - r))\n",
    "def b(x, n, p):\n",
    "    return comb(n, x) * (p ** x) * ((1 - p) ** (n - x)) \n",
    "\n",
    "def max_2_rejects(n, p_reject):\n",
    "    return b(0, n, p_reject) + b(1, n, p_reject) + b(2, n, p_reject)\n",
    "    \n",
    "def at_least_2_rejects(n, p_reject):\n",
    "    return sum([b(x, n, p_reject) for x in range(2, 11)])"
   ]
  },
  {
   "cell_type": "markdown",
   "metadata": {},
   "source": [
    "### Output"
   ]
  },
  {
   "cell_type": "code",
   "execution_count": 41,
   "metadata": {},
   "outputs": [],
   "source": [
    "def solve_bdst_2(stream):\n",
    "   p_reject, n = [int(x) for x in stream.readline().split()]\n",
    "   print('{:.3f}'.format(\n",
    "       max_2_rejects(n, p_reject / 100)\n",
    "   ))\n",
    "   print('{:.3f}'.format(\n",
    "       at_least_2_rejects(n, p_reject / 100)\n",
    "   ))"
   ]
  },
  {
   "cell_type": "code",
   "execution_count": 42,
   "metadata": {},
   "outputs": [
    {
     "name": "stdout",
     "output_type": "stream",
     "text": [
      "0.891\n",
      "0.342\n"
     ]
    }
   ],
   "source": [
    "solve_bdst_2(example_bdst_2())"
   ]
  },
  {
   "cell_type": "code",
   "execution_count": null,
   "metadata": {},
   "outputs": [],
   "source": []
  },
  {
   "cell_type": "markdown",
   "metadata": {},
   "source": [
    "## Geometric Distribution I\n",
    "The probability that a machine produces a defective product is 1/3 . What is the probability that the 1st defect is found during the 5th inspection?\n",
    "The first line contains the respective space-separated numerator and denominator for the probability of a defect, and the second line contains the inspection we want the probability of being the first defect for:"
   ]
  },
  {
   "cell_type": "markdown",
   "metadata": {},
   "source": [
    "## Input"
   ]
  },
  {
   "cell_type": "code",
   "execution_count": 57,
   "metadata": {},
   "outputs": [],
   "source": [
    "from io import StringIO\n",
    "example_geom = lambda: StringIO('''1 3\n",
    "5''')"
   ]
  },
  {
   "cell_type": "markdown",
   "metadata": {},
   "source": [
    "## Solution"
   ]
  },
  {
   "cell_type": "code",
   "execution_count": 58,
   "metadata": {},
   "outputs": [],
   "source": [
    "comb = lambda n, r: math.factorial(n) / (math.factorial(r) * math.factorial(n - r))\n",
    "\n",
    "def b_star(x, n, p):\n",
    "    return comb(n-1, x-1) * (p ** x) * (1 - p) ** (n - x)\n",
    "\n",
    "def defect_on_nth_inspection(p_defect, nth_inspection):\n",
    "    return b_star(1, nth_inspection, p_defect)"
   ]
  },
  {
   "cell_type": "markdown",
   "metadata": {},
   "source": [
    "## Output"
   ]
  },
  {
   "cell_type": "code",
   "execution_count": 59,
   "metadata": {},
   "outputs": [],
   "source": [
    "def solve_geom_1(stream):\n",
    "    p_defect_num, p_defect_denom = [int(x) for x in stream.readline().split()]\n",
    "    p_defect = p_defect_num / p_defect_denom\n",
    "    nth_inspection = int(stream.readline())\n",
    "    \n",
    "    print('{:.3f}'.format(\n",
    "        defect_on_nth_inspection(p_defect, nth_inspection)\n",
    "    ))"
   ]
  },
  {
   "cell_type": "code",
   "execution_count": 60,
   "metadata": {},
   "outputs": [
    {
     "name": "stdout",
     "output_type": "stream",
     "text": [
      "0.066\n"
     ]
    }
   ],
   "source": [
    "solve_geom_1(example_geom())"
   ]
  },
  {
   "cell_type": "code",
   "execution_count": null,
   "metadata": {},
   "outputs": [],
   "source": []
  }
 ],
 "metadata": {
  "kernelspec": {
   "display_name": "Python 3",
   "language": "python",
   "name": "python3"
  },
  "language_info": {
   "codemirror_mode": {
    "name": "ipython",
    "version": 3
   },
   "file_extension": ".py",
   "mimetype": "text/x-python",
   "name": "python",
   "nbconvert_exporter": "python",
   "pygments_lexer": "ipython3",
   "version": "3.6.2"
  }
 },
 "nbformat": 4,
 "nbformat_minor": 2
}
