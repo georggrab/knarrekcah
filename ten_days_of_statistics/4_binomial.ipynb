{
 "cells": [
  {
   "cell_type": "markdown",
   "metadata": {},
   "source": [
    "# Day 4"
   ]
  },
  {
   "cell_type": "markdown",
   "metadata": {},
   "source": [
    "## Binomial Distribution I\n",
    "The ratio of boys to girls for babies born in Russia is 1:09:1. If there is 1 child born per birth, what proportion of Russian families with exactly 6 children will have at least 3 boys?"
   ]
  },
  {
   "cell_type": "markdown",
   "metadata": {},
   "source": [
    "### Input"
   ]
  },
  {
   "cell_type": "code",
   "execution_count": 17,
   "metadata": {},
   "outputs": [],
   "source": [
    "from io import StringIO"
   ]
  },
  {
   "cell_type": "code",
   "execution_count": 18,
   "metadata": {},
   "outputs": [],
   "source": [
    "example_bdst = lambda: StringIO('1.09 1')"
   ]
  },
  {
   "cell_type": "markdown",
   "metadata": {},
   "source": [
    "### Solution"
   ]
  },
  {
   "cell_type": "code",
   "execution_count": 27,
   "metadata": {},
   "outputs": [],
   "source": [
    "import math\n",
    "comb = lambda n, r: math.factorial(n) / (math.factorial(r) * math.factorial(n - r))\n",
    "def b(x, n, p):\n",
    "    return comb(n, x) * (p ** x) * ((1 - p) ** (n - x)) "
   ]
  },
  {
   "cell_type": "markdown",
   "metadata": {},
   "source": [
    "### Output"
   ]
  },
  {
   "cell_type": "code",
   "execution_count": 20,
   "metadata": {},
   "outputs": [],
   "source": [
    "def solve_bdst(stream):\n",
    "    ratio_boy, ratio_girl = map(float, stream.readline().split())\n",
    "    n = 6\n",
    "    p_boy = ratio_boy / (ratio_boy + ratio_girl)\n",
    "    print('{:.3f}'.format(b(3, n, p_boy) + b(4, n, p_boy) + b(5, n, p_boy) + b(6, n, p_boy)))\n",
    "    "
   ]
  },
  {
   "cell_type": "code",
   "execution_count": 21,
   "metadata": {},
   "outputs": [
    {
     "name": "stdout",
     "output_type": "stream",
     "text": [
      "0.696\n"
     ]
    }
   ],
   "source": [
    "solve_bdst(example_bdst())"
   ]
  },
  {
   "cell_type": "code",
   "execution_count": null,
   "metadata": {},
   "outputs": [],
   "source": []
  },
  {
   "cell_type": "markdown",
   "metadata": {},
   "source": [
    "## Binomial Distribution II\n",
    "A manufacturer of metal pistons finds that, on average, 12% of the pistons they manufacture are rejected because they are incorrectly sized. What is the probability that a batch of 10 pistons will contain:\n",
    "\n",
    "    No more than 2 rejects?\n",
    "    At least 2 rejects?\n"
   ]
  },
  {
   "cell_type": "code",
   "execution_count": 23,
   "metadata": {},
   "outputs": [],
   "source": [
    "### Input"
   ]
  },
  {
   "cell_type": "code",
   "execution_count": 24,
   "metadata": {},
   "outputs": [],
   "source": [
    "from io import StringIO"
   ]
  },
  {
   "cell_type": "code",
   "execution_count": 25,
   "metadata": {},
   "outputs": [],
   "source": [
    "example_bdst_2 = lambda: StringIO('12 10')"
   ]
  },
  {
   "cell_type": "code",
   "execution_count": 26,
   "metadata": {},
   "outputs": [],
   "source": [
    "### Solution"
   ]
  },
  {
   "cell_type": "code",
   "execution_count": 31,
   "metadata": {},
   "outputs": [],
   "source": [
    "comb = lambda n, r: math.factorial(n) / (math.factorial(r) * math.factorial(n - r))\n",
    "def b(x, n, p):\n",
    "    return comb(n, x) * (p ** x) * ((1 - p) ** (n - x)) \n",
    "\n",
    "def max_2_rejects(n, p_reject):\n",
    "    return b(0, n, p_reject) + b(1, n, p_reject) + b(2, n, p_reject)\n",
    "    \n",
    "def at_least_2_rejects(n, p_reject):\n",
    "    return sum([b(x, n, p_reject) for x in range(2, 11)])"
   ]
  },
  {
   "cell_type": "code",
   "execution_count": 32,
   "metadata": {},
   "outputs": [],
   "source": [
    "### Output"
   ]
  },
  {
   "cell_type": "code",
   "execution_count": null,
   "metadata": {},
   "outputs": [],
   "source": [
    "def solve_bdst_2(stream):\n",
    "   p_reject, n = [int(x) for x in stream.readline().split()]\n",
    "   print('{:.3f}'.format(\n",
    "       m\n",
    "   ))"
   ]
  }
 ],
 "metadata": {
  "kernelspec": {
   "display_name": "Python 3",
   "language": "python",
   "name": "python3"
  },
  "language_info": {
   "codemirror_mode": {
    "name": "ipython",
    "version": 3
   },
   "file_extension": ".py",
   "mimetype": "text/x-python",
   "name": "python",
   "nbconvert_exporter": "python",
   "pygments_lexer": "ipython3",
   "version": "3.6.2"
  }
 },
 "nbformat": 4,
 "nbformat_minor": 2
}
