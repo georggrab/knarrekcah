{
 "cells": [
  {
   "cell_type": "markdown",
   "metadata": {},
   "source": [
    "# Day 1"
   ]
  },
  {
   "cell_type": "markdown",
   "metadata": {},
   "source": [
    "## Quartiles"
   ]
  },
  {
   "cell_type": "markdown",
   "metadata": {},
   "source": [
    "Given an array, X, of n integers, calculate the respective first quartile (Q_1), second quartile (Q_2), and third quartile (Q_3). It is guaranteed that Q_1, Q_2, and Q_3 are integers."
   ]
  },
  {
   "cell_type": "markdown",
   "metadata": {},
   "source": [
    "### Input"
   ]
  },
  {
   "cell_type": "code",
   "execution_count": 25,
   "metadata": {},
   "outputs": [],
   "source": [
    "from io import StringIO"
   ]
  },
  {
   "cell_type": "code",
   "execution_count": 26,
   "metadata": {},
   "outputs": [],
   "source": [
    "quartiles_sample = StringIO('''9\n",
    "3 7 8 5 12 14 21 13 18''')"
   ]
  },
  {
   "cell_type": "markdown",
   "metadata": {},
   "source": [
    "### Solution"
   ]
  },
  {
   "cell_type": "code",
   "execution_count": 27,
   "metadata": {},
   "outputs": [],
   "source": [
    "def median(array):\n",
    "    length = len(array)\n",
    "    if(length % 2 == 0):\n",
    "      return (array[int(length / 2)] + array[int(length / 2) - 1]) / 2\n",
    "    else:\n",
    "      return array[int(length / 2) + 1]\n",
    "\n",
    "def quartiles(sorted_arr):\n",
    "  if len(sorted_arr) % 2 == 0:\n",
    "    q2 = median(sorted_arr)\n",
    "    q1 = median(sorted_arr[0:int(len(sorted_arr) / 2)])\n",
    "    q3 = median(sorted_arr[int(len(sorted_arr) / 2): len(sorted_arr)])\n",
    "  else:\n",
    "    q2 = median(sorted_arr)\n",
    "    q1 = median(sorted_arr[0:int(len(sorted_arr) / 2)])\n",
    "    q3 = median(sorted_arr[int(len(sorted_arr) / 2) + 1: len(sorted_arr)])\n",
    "  return (q1, q2, q3)"
   ]
  },
  {
   "cell_type": "markdown",
   "metadata": {},
   "source": [
    "### Output"
   ]
  },
  {
   "cell_type": "code",
   "execution_count": 28,
   "metadata": {},
   "outputs": [],
   "source": [
    "def solve_quartiles(stream):\n",
    "    stream.readline()\n",
    "    X = [float(x) for x in stream.readline().split()]\n",
    "    print('{}\\n{}\\n{}'.format(\n",
    "        *quartiles(sorted(X))\n",
    "    ))"
   ]
  },
  {
   "cell_type": "code",
   "execution_count": 29,
   "metadata": {},
   "outputs": [
    {
     "name": "stdout",
     "output_type": "stream",
     "text": [
      "6.0\n",
      "13.0\n",
      "16.0\n"
     ]
    }
   ],
   "source": [
    "solve_quartiles(quartiles_sample)"
   ]
  },
  {
   "cell_type": "code",
   "execution_count": null,
   "metadata": {},
   "outputs": [],
   "source": []
  }
 ],
 "metadata": {
  "kernelspec": {
   "display_name": "Python 3",
   "language": "python",
   "name": "python3"
  },
  "language_info": {
   "codemirror_mode": {
    "name": "ipython",
    "version": 3
   },
   "file_extension": ".py",
   "mimetype": "text/x-python",
   "name": "python",
   "nbconvert_exporter": "python",
   "pygments_lexer": "ipython3",
   "version": "3.6.2"
  }
 },
 "nbformat": 4,
 "nbformat_minor": 2
}
