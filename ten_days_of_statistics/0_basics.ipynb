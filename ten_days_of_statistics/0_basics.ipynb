{
 "cells": [
  {
   "cell_type": "markdown",
   "metadata": {},
   "source": [
    "# Day 0"
   ]
  },
  {
   "cell_type": "markdown",
   "metadata": {},
   "source": [
    "## Mean, Median, and Mode"
   ]
  },
  {
   "cell_type": "markdown",
   "metadata": {},
   "source": [
    "Given an array, X, of N integers, calculate and print the respective mean, median, and mode on separate lines. If your array contains more than one modal value, choose the numerically smallest one."
   ]
  },
  {
   "cell_type": "markdown",
   "metadata": {},
   "source": [
    "### Input"
   ]
  },
  {
   "cell_type": "code",
   "execution_count": 1,
   "metadata": {},
   "outputs": [],
   "source": [
    "from io import StringIO"
   ]
  },
  {
   "cell_type": "code",
   "execution_count": 2,
   "metadata": {},
   "outputs": [],
   "source": [
    "sample_input = StringIO('''10\n",
    "64630 11735 14216 99233 14470 4978 73429 38120 51135 67060''')"
   ]
  },
  {
   "cell_type": "markdown",
   "metadata": {},
   "source": [
    "### Solution"
   ]
  },
  {
   "cell_type": "code",
   "execution_count": 4,
   "metadata": {},
   "outputs": [],
   "source": [
    "def mean(array):\n",
    "    return sum(array) / len(array)\n",
    "    \n",
    "def median(array):\n",
    "    length = len(array)\n",
    "    if(length % 2 == 0):\n",
    "      return (array[int(length / 2)] + array[int(length / 2) - 1]) / 2\n",
    "    else:\n",
    "      return array[int(length / 2) + 1]\n",
    "    \n",
    "def mode(array):\n",
    "    length = len(array)\n",
    "    if length == 0:\n",
    "      return 0\n",
    "    else:\n",
    "      max_val = 0\n",
    "      encounters = {key: 0 for key in array}\n",
    "      for i in array:\n",
    "        encounters[i] += 1\n",
    "        if encounters[i] > max_val:\n",
    "          max_val = encounters[i]\n",
    "      return min([k for k, v in encounters.items() if v == max_val])"
   ]
  },
  {
   "cell_type": "markdown",
   "metadata": {},
   "source": [
    "### Output"
   ]
  },
  {
   "cell_type": "code",
   "execution_count": 5,
   "metadata": {},
   "outputs": [],
   "source": [
    "def solve(input_stream):\n",
    "    N = int(input_stream.readline())\n",
    "    array = [float(x) for x in input_stream.readline().split()]\n",
    "    print('{:.1f}\\n{:.1f}\\n{:.1f}'.format(\n",
    "        mean(array),\n",
    "        median(array),\n",
    "        mode(array)\n",
    "    ))"
   ]
  },
  {
   "cell_type": "code",
   "execution_count": 6,
   "metadata": {},
   "outputs": [
    {
     "name": "stdout",
     "output_type": "stream",
     "text": [
      "43900.6\n",
      "9724.0\n",
      "4978.0\n"
     ]
    }
   ],
   "source": [
    "solve(sample_input)"
   ]
  },
  {
   "cell_type": "code",
   "execution_count": null,
   "metadata": {},
   "outputs": [],
   "source": []
  }
 ],
 "metadata": {
  "kernelspec": {
   "display_name": "Python 3",
   "language": "python",
   "name": "python3"
  },
  "language_info": {
   "codemirror_mode": {
    "name": "ipython",
    "version": 3
   },
   "file_extension": ".py",
   "mimetype": "text/x-python",
   "name": "python",
   "nbconvert_exporter": "python",
   "pygments_lexer": "ipython3",
   "version": "3.6.2"
  }
 },
 "nbformat": 4,
 "nbformat_minor": 2
}
