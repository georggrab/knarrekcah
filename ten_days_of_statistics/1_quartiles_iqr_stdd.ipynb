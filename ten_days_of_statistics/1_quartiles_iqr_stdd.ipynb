{
 "cells": [
  {
   "cell_type": "markdown",
   "metadata": {},
   "source": [
    "# Day 1"
   ]
  },
  {
   "cell_type": "markdown",
   "metadata": {},
   "source": [
    "## Quartiles"
   ]
  },
  {
   "cell_type": "markdown",
   "metadata": {},
   "source": [
    "Given an array, X, of n integers, calculate the respective first quartile (Q_1), second quartile (Q_2), and third quartile (Q_3). It is guaranteed that Q_1, Q_2, and Q_3 are integers."
   ]
  },
  {
   "cell_type": "markdown",
   "metadata": {},
   "source": [
    "### Input"
   ]
  },
  {
   "cell_type": "code",
   "execution_count": 25,
   "metadata": {},
   "outputs": [],
   "source": [
    "from io import StringIO"
   ]
  },
  {
   "cell_type": "code",
   "execution_count": 26,
   "metadata": {},
   "outputs": [],
   "source": [
    "quartiles_sample = StringIO('''9\n",
    "3 7 8 5 12 14 21 13 18''')"
   ]
  },
  {
   "cell_type": "markdown",
   "metadata": {},
   "source": [
    "### Solution"
   ]
  },
  {
   "cell_type": "code",
   "execution_count": 27,
   "metadata": {},
   "outputs": [],
   "source": [
    "def median(array):\n",
    "    length = len(array)\n",
    "    if(length % 2 == 0):\n",
    "      return (array[int(length / 2)] + array[int(length / 2) - 1]) / 2\n",
    "    else:\n",
    "      return array[int(length / 2) + 1]\n",
    "\n",
    "def quartiles(sorted_arr):\n",
    "  if len(sorted_arr) % 2 == 0:\n",
    "    q2 = median(sorted_arr)\n",
    "    q1 = median(sorted_arr[0:int(len(sorted_arr) / 2)])\n",
    "    q3 = median(sorted_arr[int(len(sorted_arr) / 2): len(sorted_arr)])\n",
    "  else:\n",
    "    q2 = median(sorted_arr)\n",
    "    q1 = median(sorted_arr[0:int(len(sorted_arr) / 2)])\n",
    "    q3 = median(sorted_arr[int(len(sorted_arr) / 2) + 1: len(sorted_arr)])\n",
    "  return (q1, q2, q3)"
   ]
  },
  {
   "cell_type": "markdown",
   "metadata": {},
   "source": [
    "### Output"
   ]
  },
  {
   "cell_type": "code",
   "execution_count": 28,
   "metadata": {},
   "outputs": [],
   "source": [
    "def solve_quartiles(stream):\n",
    "    stream.readline()\n",
    "    X = [float(x) for x in stream.readline().split()]\n",
    "    print('{}\\n{}\\n{}'.format(\n",
    "        *quartiles(sorted(X))\n",
    "    ))"
   ]
  },
  {
   "cell_type": "code",
   "execution_count": 29,
   "metadata": {},
   "outputs": [
    {
     "name": "stdout",
     "output_type": "stream",
     "text": [
      "6.0\n",
      "13.0\n",
      "16.0\n"
     ]
    }
   ],
   "source": [
    "solve_quartiles(quartiles_sample)"
   ]
  },
  {
   "cell_type": "code",
   "execution_count": null,
   "metadata": {},
   "outputs": [],
   "source": []
  },
  {
   "cell_type": "markdown",
   "metadata": {},
   "source": [
    "## Interquartile Range"
   ]
  },
  {
   "cell_type": "markdown",
   "metadata": {},
   "source": [
    "The interquartile range of an array is the difference between its first (Q1) and third (Q3) quartiles (i.e., Q3 - Q1 ).\n",
    "\n",
    "Given an array, X, of n integers and an array, F, representing the respective frequencies of X's elements, construct a data set, S, where each x_i occurs at frequency f_i. Then calculate and print S's interquartile range, rounded to a scale of 1 decimal place."
   ]
  },
  {
   "cell_type": "markdown",
   "metadata": {},
   "source": [
    "### Input"
   ]
  },
  {
   "cell_type": "code",
   "execution_count": 1,
   "metadata": {},
   "outputs": [],
   "source": [
    "from io import StringIO"
   ]
  },
  {
   "cell_type": "code",
   "execution_count": 2,
   "metadata": {},
   "outputs": [],
   "source": [
    "iqr_input = lambda: StringIO('''6\n",
    "6 12 8 10 20 16\n",
    "5 4 3 2 1 5''')"
   ]
  },
  {
   "cell_type": "markdown",
   "metadata": {},
   "source": [
    "### Solution"
   ]
  },
  {
   "cell_type": "code",
   "execution_count": 4,
   "metadata": {},
   "outputs": [],
   "source": [
    "def median(sorted_arr):\n",
    "  if len(sorted_arr) % 2 == 0:\n",
    "    return (sorted_arr[int(len(sorted_arr) / 2) - 1] + sorted_arr[int(len(sorted_arr) / 2)]) / 2\n",
    "  else:\n",
    "    return sorted_arr[int(len(sorted_arr) / 2)]\n",
    "  \n",
    "def get_quartiles(sorted_arr):\n",
    "  if len(sorted_arr) % 2 == 0:\n",
    "    q2 = median(sorted_arr)\n",
    "    q1 = median(sorted_arr[0:int(len(sorted_arr) / 2)])\n",
    "    q3 = median(sorted_arr[int(len(sorted_arr) / 2): len(sorted_arr)])\n",
    "  else:\n",
    "    q2 = median(sorted_arr)\n",
    "    q1 = median(sorted_arr[0:int(len(sorted_arr) / 2)])\n",
    "    q3 = median(sorted_arr[int(len(sorted_arr) / 2) + 1: len(sorted_arr)])\n",
    "  return [q1, q2, q3]\n",
    "\n",
    "def get_S(X, F):\n",
    "    XF_sorted = sorted(zip(X, F), key=lambda x: x[0])\n",
    "    S = list(map(lambda x: [x[0]] * x[1], XF_sorted))\n",
    "    return [item for sublist in S for item in sublist]"
   ]
  },
  {
   "cell_type": "markdown",
   "metadata": {},
   "source": [
    "### Output"
   ]
  },
  {
   "cell_type": "code",
   "execution_count": 5,
   "metadata": {},
   "outputs": [],
   "source": [
    "def solve_iqr(stream):\n",
    "    stream.readline()\n",
    "    X = [int(x) for x in stream.readline().split()]\n",
    "    F = [int(x) for x in stream.readline().split()]\n",
    "    S = get_S(X, F)\n",
    "    q1, _, q3 = get_quartiles(S)\n",
    "    print('{:.1f}'.format(\n",
    "        q3 - q1\n",
    "    ))"
   ]
  },
  {
   "cell_type": "code",
   "execution_count": 7,
   "metadata": {},
   "outputs": [
    {
     "name": "stdout",
     "output_type": "stream",
     "text": [
      "9.0\n"
     ]
    }
   ],
   "source": [
    "solve_iqr(iqr_input())"
   ]
  },
  {
   "cell_type": "code",
   "execution_count": null,
   "metadata": {},
   "outputs": [],
   "source": []
  },
  {
   "cell_type": "markdown",
   "metadata": {},
   "source": [
    "## Standard Deviation"
   ]
  },
  {
   "cell_type": "markdown",
   "metadata": {},
   "source": [
    "Given an array, X, of n integers, calculate and print the standard deviation."
   ]
  },
  {
   "cell_type": "markdown",
   "metadata": {},
   "source": [
    "### Input"
   ]
  },
  {
   "cell_type": "code",
   "execution_count": 8,
   "metadata": {},
   "outputs": [],
   "source": [
    "from io import StringIO"
   ]
  },
  {
   "cell_type": "code",
   "execution_count": 9,
   "metadata": {},
   "outputs": [],
   "source": [
    "stdd_input = lambda: StringIO('''5\n",
    "10 40 30 50 20''')"
   ]
  },
  {
   "cell_type": "markdown",
   "metadata": {},
   "source": [
    "### Solution"
   ]
  },
  {
   "cell_type": "code",
   "execution_count": 20,
   "metadata": {},
   "outputs": [],
   "source": [
    "mean = lambda arr: sum(arr) / len(arr)\n",
    "\n",
    "def stdd(arr):\n",
    "    arr_mean = mean(arr)\n",
    "    return (sum(\n",
    "        map(lambda x: (x - arr_mean) ** 2, arr)\n",
    "    ) / len(arr)) ** 0.5"
   ]
  },
  {
   "cell_type": "markdown",
   "metadata": {},
   "source": [
    "### Output"
   ]
  },
  {
   "cell_type": "code",
   "execution_count": 21,
   "metadata": {},
   "outputs": [],
   "source": [
    "def solve_stdd(stream):\n",
    "    stream.readline()\n",
    "    arr = [int(x) for x in stream.readline().split()]\n",
    "    print('{:.1f}'.format(\n",
    "        stdd(arr)\n",
    "    ))"
   ]
  },
  {
   "cell_type": "code",
   "execution_count": 22,
   "metadata": {},
   "outputs": [
    {
     "name": "stdout",
     "output_type": "stream",
     "text": [
      "14.1\n"
     ]
    }
   ],
   "source": [
    "solve_stdd(stdd_input())"
   ]
  },
  {
   "cell_type": "code",
   "execution_count": null,
   "metadata": {},
   "outputs": [],
   "source": []
  }
 ],
 "metadata": {
  "kernelspec": {
   "display_name": "Python 3",
   "language": "python",
   "name": "python3"
  },
  "language_info": {
   "codemirror_mode": {
    "name": "ipython",
    "version": 3
   },
   "file_extension": ".py",
   "mimetype": "text/x-python",
   "name": "python",
   "nbconvert_exporter": "python",
   "pygments_lexer": "ipython3",
   "version": "3.6.2"
  }
 },
 "nbformat": 4,
 "nbformat_minor": 2
}
