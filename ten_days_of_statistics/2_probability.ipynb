{
 "cells": [
  {
   "cell_type": "markdown",
   "metadata": {},
   "source": [
    "# Day 2"
   ]
  },
  {
   "cell_type": "markdown",
   "metadata": {},
   "source": [
    "## Basic Probability"
   ]
  },
  {
   "cell_type": "markdown",
   "metadata": {},
   "source": [
    "In a single toss of 2 fair (evenly-weighted) six-sided dice, find the probability that their sum will be at most 9."
   ]
  },
  {
   "cell_type": "code",
   "execution_count": 5,
   "metadata": {},
   "outputs": [],
   "source": [
    "potential_sums = []\n",
    "total_possibilities = 0\n",
    "dice_sides = 6"
   ]
  },
  {
   "cell_type": "code",
   "execution_count": 6,
   "metadata": {},
   "outputs": [],
   "source": [
    "for dice_1 in range(1, dice_sides + 1):\n",
    "    for dice_2 in range(1, dice_sides + 1):\n",
    "        potential_sums.append(dice_1 + dice_2)\n",
    "        total_possibilities += 1"
   ]
  },
  {
   "cell_type": "code",
   "execution_count": 12,
   "metadata": {},
   "outputs": [],
   "source": [
    "relevant_possibilities = len(list(filter(lambda x: x <= 9, potential_sums)))"
   ]
  },
  {
   "cell_type": "code",
   "execution_count": 13,
   "metadata": {},
   "outputs": [
    {
     "data": {
      "text/plain": [
       "30"
      ]
     },
     "execution_count": 13,
     "metadata": {},
     "output_type": "execute_result"
    }
   ],
   "source": [
    "relevant_possibilities"
   ]
  },
  {
   "cell_type": "code",
   "execution_count": 17,
   "metadata": {},
   "outputs": [
    {
     "data": {
      "text/plain": [
       "Fraction(5, 6)"
      ]
     },
     "execution_count": 17,
     "metadata": {},
     "output_type": "execute_result"
    }
   ],
   "source": [
    "import fractions\n",
    "fractions.Fraction(relevant_possibilities / total_possibilities).limit_denominator()"
   ]
  },
  {
   "cell_type": "code",
   "execution_count": null,
   "metadata": {},
   "outputs": [],
   "source": []
  },
  {
   "cell_type": "markdown",
   "metadata": {},
   "source": [
    "## More Dice"
   ]
  },
  {
   "cell_type": "markdown",
   "metadata": {},
   "source": [
    "In a single toss of 2 fair (evenly-weighted) six-sided dice, find the probability that the values rolled by each die will be different and the two dice have a sum of 6. "
   ]
  },
  {
   "cell_type": "code",
   "execution_count": 19,
   "metadata": {},
   "outputs": [
    {
     "data": {
      "text/plain": [
       "Fraction(1, 9)"
      ]
     },
     "execution_count": 19,
     "metadata": {},
     "output_type": "execute_result"
    }
   ],
   "source": [
    "dice_sides = 6\n",
    "relevant_tosses = 0\n",
    "\n",
    "for dice_1 in range(1, dice_sides + 1):\n",
    "    for dice_2 in range(1, dice_sides + 1):\n",
    "        if dice_1 + dice_2 == 6 and dice_1 != dice_2:\n",
    "            relevant_tosses += 1\n",
    "\n",
    "import fractions\n",
    "fractions.Fraction(relevant_tosses / (dice_sides ** 2)).limit_denominator()"
   ]
  },
  {
   "cell_type": "code",
   "execution_count": null,
   "metadata": {},
   "outputs": [],
   "source": []
  },
  {
   "cell_type": "markdown",
   "metadata": {},
   "source": [
    "## Compound Event Probability"
   ]
  },
  {
   "cell_type": "markdown",
   "metadata": {},
   "source": [
    "There are 3 urns labeled X, Y, and Z.\n",
    "\n",
    "    Urn X contains 4 red balls and 3 black balls.\n",
    "    Urn Y contains 5 red balls and 4 black balls.\n",
    "    Urn Z contains 4 red balls and 4 black balls.\n",
    "\n",
    "One ball is drawn from each of the 3 urns. What is the probability that, of the 3 balls drawn, 2 are red and 1 is black?"
   ]
  },
  {
   "cell_type": "code",
   "execution_count": 39,
   "metadata": {},
   "outputs": [],
   "source": [
    "import itertools\n",
    "from collections import Counter\n",
    "possible_outcomes = itertools.product('rb', 'rb', 'rb')"
   ]
  },
  {
   "cell_type": "code",
   "execution_count": 40,
   "metadata": {},
   "outputs": [],
   "source": [
    "x_p_r = 4 / 7\n",
    "x_p_b = 1 - x_p_r\n",
    "y_p_r = 5 / 9\n",
    "y_p_b = 1 - y_p_r\n",
    "z_p_r = 4 / 8\n",
    "z_p_b = 1 - z_p_r"
   ]
  },
  {
   "cell_type": "code",
   "execution_count": 41,
   "metadata": {},
   "outputs": [],
   "source": [
    "compound_probability = 0\n",
    "for outcome in possible_outcomes:\n",
    "    c = Counter(outcome)\n",
    "    if c['r'] == 2 and c['b'] == 1:\n",
    "        p_x = x_p_r\n",
    "        p_y = y_p_r\n",
    "        p_z = z_p_r\n",
    "        if outcome[0] == 'b':\n",
    "            p_x = x_p_b\n",
    "        if outcome[1] == 'b':\n",
    "            p_y = y_p_b\n",
    "        if outcome[2] == 'b':\n",
    "            p_z = z_p_b\n",
    "        compound_probability += (p_x * p_y * p_z)\n",
    "        "
   ]
  },
  {
   "cell_type": "code",
   "execution_count": 42,
   "metadata": {},
   "outputs": [
    {
     "data": {
      "text/plain": [
       "Fraction(17, 42)"
      ]
     },
     "execution_count": 42,
     "metadata": {},
     "output_type": "execute_result"
    }
   ],
   "source": [
    "from fractions import Fraction\n",
    "Fraction(compound_probability).limit_denominator()"
   ]
  },
  {
   "cell_type": "code",
   "execution_count": null,
   "metadata": {},
   "outputs": [],
   "source": []
  }
 ],
 "metadata": {
  "kernelspec": {
   "display_name": "Python 3",
   "language": "python",
   "name": "python3"
  },
  "language_info": {
   "codemirror_mode": {
    "name": "ipython",
    "version": 3
   },
   "file_extension": ".py",
   "mimetype": "text/x-python",
   "name": "python",
   "nbconvert_exporter": "python",
   "pygments_lexer": "ipython3",
   "version": "3.6.2"
  }
 },
 "nbformat": 4,
 "nbformat_minor": 2
}
