{
 "cells": [
  {
   "cell_type": "markdown",
   "metadata": {},
   "source": [
    "# Day 3"
   ]
  },
  {
   "cell_type": "markdown",
   "metadata": {},
   "source": [
    "## Conditional Probability"
   ]
  },
  {
   "cell_type": "markdown",
   "metadata": {},
   "source": [
    "Suppose a family has 2 children, one of which is a boy. What is the probability that both children are boys?"
   ]
  },
  {
   "cell_type": "code",
   "execution_count": 11,
   "metadata": {},
   "outputs": [],
   "source": [
    "# Event B: Child is a Boy\n",
    "# Event BB: Both Children are boys\n",
    "\n",
    "# Probability A: One Child is a boy given that both children are boys\n",
    "P_B_BB = 1\n",
    "\n",
    "# Probability B: At least one child is a boy\n",
    "P_B = (1/4) * 3\n",
    "\n",
    "# Probability C: Two children are boys\n",
    "P_BB = (1/2) ** 2\n",
    "\n",
    "# Probability D: Both Children are boys, given that the first child is not a boy\n",
    "P_BB_not_B = 0\n",
    "\n",
    "# Probability E: No child is a boy\n",
    "P_not_B = 1 - P_B"
   ]
  },
  {
   "cell_type": "code",
   "execution_count": 16,
   "metadata": {},
   "outputs": [
    {
     "data": {
      "text/plain": [
       "0.3333333333333333"
      ]
     },
     "execution_count": 16,
     "metadata": {},
     "output_type": "execute_result"
    }
   ],
   "source": [
    "# We're looking for P_BB_B: Probability that both children are boys given that one child is a boy\n",
    "((P_B_BB) * (P_BB)) / (P_B)"
   ]
  },
  {
   "cell_type": "markdown",
   "metadata": {},
   "source": [
    "Alternative (full bayes theorem)"
   ]
  },
  {
   "cell_type": "code",
   "execution_count": 17,
   "metadata": {},
   "outputs": [
    {
     "data": {
      "text/plain": [
       "0.3333333333333333"
      ]
     },
     "execution_count": 17,
     "metadata": {},
     "output_type": "execute_result"
    }
   ],
   "source": [
    "# Event A: Both of the children are boys\n",
    "# Event B: One of the chilren is a boy\n",
    "\n",
    "# The Probability that one of the children is a boy\n",
    "# given that both of the children are boys\n",
    "P_BA = 1\n",
    "\n",
    "# The Probability that both of the children are boys\n",
    "# (sample space is {{Boy, Boy}, {Boy, Girl}, {Girl, Boy}, {Girl, Girl}}), \n",
    "# only one applies\n",
    "P_A = 1 / 4\n",
    "\n",
    "# Probability that one of the children is a boy, given the fact\n",
    "# that not both of the children are boys.\n",
    "# Given the Evidence, our sample space collapses to {{Boy, Girl}, {Girl, Boy}, {Girl, Girl}}\n",
    "# 2 / 3's of the samples apply.\n",
    "P_B_NOT_A = 2 / 3\n",
    "\n",
    "# The probability that not both of the children are boys\n",
    "# See reasoning for P_A\n",
    "P_NOT_A = 3/ 4\n",
    "\n",
    "# Application of Bayes Theorem\n",
    "(P_BA * P_A) / (P_BA * P_A + P_B_NOT_A * P_NOT_A)"
   ]
  },
  {
   "cell_type": "markdown",
   "metadata": {},
   "source": [
    "Alternative: P(A|B) = P(A & B) / P(B)"
   ]
  },
  {
   "cell_type": "code",
   "execution_count": 19,
   "metadata": {},
   "outputs": [
    {
     "data": {
      "text/plain": [
       "0.3333333333333333"
      ]
     },
     "execution_count": 19,
     "metadata": {},
     "output_type": "execute_result"
    }
   ],
   "source": [
    "# Both of the childs are boys AND one of the childs is a boy\n",
    "P_A_AND_B = 1 / 4\n",
    "# Reason based on Probability Space:\n",
    "#    {Girl, Girl}\n",
    "#    {Boy, Girl}\n",
    "#    {Girl, Boy}\n",
    "#  * {Boy, Boy}\n",
    "\n",
    "# One of the childs is a boy\n",
    "P_B = 3 / 4\n",
    "# Reason based on Probability Space:\n",
    "#    {Girl, Girl}\n",
    "#  * {Boy, Girl}\n",
    "#  * {Girl, Boy}\n",
    "#  * {Boy, Boy}\n",
    "\n",
    "P_A_AND_B / P_B"
   ]
  },
  {
   "cell_type": "code",
   "execution_count": null,
   "metadata": {},
   "outputs": [],
   "source": []
  }
 ],
 "metadata": {
  "kernelspec": {
   "display_name": "Python 3",
   "language": "python",
   "name": "python3"
  },
  "language_info": {
   "codemirror_mode": {
    "name": "ipython",
    "version": 3
   },
   "file_extension": ".py",
   "mimetype": "text/x-python",
   "name": "python",
   "nbconvert_exporter": "python",
   "pygments_lexer": "ipython3",
   "version": "3.6.2"
  }
 },
 "nbformat": 4,
 "nbformat_minor": 2
}
