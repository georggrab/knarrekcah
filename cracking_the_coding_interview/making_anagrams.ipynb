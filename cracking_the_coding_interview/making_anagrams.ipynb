{
 "cells": [
  {
   "cell_type": "markdown",
   "metadata": {},
   "source": [
    "# Strings: Making Anagrams\n",
    "Alice is taking a cryptography class and finding anagrams to be very useful. We consider two strings to be anagrams of each other if the first string's letters can be rearranged to form the second string. In other words, both strings must contain the same exact letters in the same exact frequency For example, bacdc and dcbac are anagrams, but bacdc and dcbad are not.\n",
    "\n",
    "Alice decides on an encryption scheme involving two large strings where encryption is dependent on the minimum number of character deletions required to make the two strings anagrams. Can you help her find this number?\n",
    "\n",
    "Given two strings, a and b, that may or may not be of the same length, determine the minimum number of character deletions required to make a and b anagrams. Any characters can be deleted from either of the strings. "
   ]
  },
  {
   "cell_type": "markdown",
   "metadata": {},
   "source": [
    "## Input"
   ]
  },
  {
   "cell_type": "code",
   "execution_count": 1,
   "metadata": {},
   "outputs": [],
   "source": [
    "from io import StringIO"
   ]
  },
  {
   "cell_type": "code",
   "execution_count": 9,
   "metadata": {},
   "outputs": [],
   "source": [
    "example_input = lambda: StringIO('''cde\n",
    "abc''')"
   ]
  },
  {
   "cell_type": "markdown",
   "metadata": {},
   "source": [
    "## Solution"
   ]
  },
  {
   "cell_type": "markdown",
   "metadata": {},
   "source": [
    "We can use a cool class from Pythons collections Library here: The `Counter`. Basically, it does exactly that: it takes an iterable, iterates through it, and counts how often an element has been encountered. It returns a dict with the encountered elements and their respective occurences.\n",
    "\n",
    "As for our Algorithm to detect changes required in anagrams: first, we get the Counters for the two input strings. We then get the changes required for one, then for the other, and add both together at the end. To do that, we iterate through the Counter's keys. If the key is in the Counter of the other string, we have to delete everything from this one, because we'll never be able to make an anagram out of it that way. If it is, we only need to delete the difference in order to get one step closer to the anagram. If this is the case, we'll have to make sure we don't count the difference twice. In the code below, I just deleted the key in the second Counter."
   ]
  },
  {
   "cell_type": "code",
   "execution_count": 101,
   "metadata": {},
   "outputs": [],
   "source": [
    "from collections import Counter"
   ]
  },
  {
   "cell_type": "code",
   "execution_count": 102,
   "metadata": {},
   "outputs": [],
   "source": [
    "def get_changes_required(a: dict, b: dict) -> int:\n",
    "    change_score = 0\n",
    "    for key in a.keys():\n",
    "        if key not in b:\n",
    "            change_score += a[key]\n",
    "        else:\n",
    "            change_score += abs(a[key] - b[key])\n",
    "            del b[key]\n",
    "    return change_score"
   ]
  },
  {
   "cell_type": "code",
   "execution_count": 94,
   "metadata": {},
   "outputs": [],
   "source": [
    "def min_letters_to_anagram(a: str, b: str) -> int:\n",
    "    counter_a = Counter(a)\n",
    "    counter_b = Counter(b)\n",
    "    changes_a = get_changes_required(counter_a, counter_b)\n",
    "    changes_b = get_changes_required(counter_b, counter_a)\n",
    "    return changes_a + changes_b\n"
   ]
  },
  {
   "cell_type": "markdown",
   "metadata": {},
   "source": [
    "## Output"
   ]
  },
  {
   "cell_type": "code",
   "execution_count": 95,
   "metadata": {},
   "outputs": [],
   "source": [
    "def solve(stream):\n",
    "    a = stream.readline().rstrip()\n",
    "    b = stream.readline().rstrip()\n",
    "    print(min_letters_to_anagram(a, b))"
   ]
  },
  {
   "cell_type": "code",
   "execution_count": 96,
   "metadata": {},
   "outputs": [
    {
     "name": "stdout",
     "output_type": "stream",
     "text": [
      "Counter({'c': 1, 'd': 1, 'e': 1}) Counter({'a': 1, 'b': 1})\n",
      "4\n"
     ]
    }
   ],
   "source": [
    "solve(example_input())"
   ]
  },
  {
   "cell_type": "code",
   "execution_count": 100,
   "metadata": {},
   "outputs": [
    {
     "name": "stdout",
     "output_type": "stream",
     "text": [
      "Counter({'d': 2, 'a': 1, 'b': 1, 'c': 1}) Counter({'r': 1})\n",
      "3\n"
     ]
    }
   ],
   "source": [
    "solve(StringIO('''abcdd\n",
    "crba'''))"
   ]
  },
  {
   "cell_type": "code",
   "execution_count": null,
   "metadata": {},
   "outputs": [],
   "source": []
  },
  {
   "cell_type": "code",
   "execution_count": null,
   "metadata": {},
   "outputs": [],
   "source": []
  }
 ],
 "metadata": {
  "kernelspec": {
   "display_name": "Python 3",
   "language": "python",
   "name": "python3"
  },
  "language_info": {
   "codemirror_mode": {
    "name": "ipython",
    "version": 3
   },
   "file_extension": ".py",
   "mimetype": "text/x-python",
   "name": "python",
   "nbconvert_exporter": "python",
   "pygments_lexer": "ipython3",
   "version": "3.6.2"
  }
 },
 "nbformat": 4,
 "nbformat_minor": 2
}
