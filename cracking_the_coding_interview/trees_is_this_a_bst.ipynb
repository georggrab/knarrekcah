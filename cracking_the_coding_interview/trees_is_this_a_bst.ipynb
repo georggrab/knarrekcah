{
 "cells": [
  {
   "cell_type": "markdown",
   "metadata": {},
   "source": [
    "## Trees: Is this a Binary Tree?\n",
    "For the purposes of this challenge, we define a binary search tree to be a binary tree with the following properties:\n",
    "\n",
    "    The data value of every node in a node's left subtree is less than the data value of that node.\n",
    "    The data value of every node in a node's right subtree is greater than the data value of that node.\n",
    "    The data value of every node is distinct.\n",
    "\n",
    "For example, the image on the left below is a valid BST. The one on the right fails on several counts:\n",
    "- All of the numbers on the right branch from the root are not larger than the root.\n",
    "- All of the numbers on the right branch from node 5 are not larger than 5.\n",
    "- All of the numbers on the left branch from node 5 are not smaller than 5.\n",
    "- The data value 1 is repeated. \n",
    "\n",
    "Given the root node of a binary tree, determine if it is a binary search tree.\n",
    "\n",
    "Function Description Complete the function checkBST in the editor below. It must return a boolean denoting whether or not the binary tree is a binary search tree.\n",
    "\n",
    "checkBST has the following parameter(s):\n",
    "\n",
    "    root: a reference to the root node of a tree to test"
   ]
  },
  {
   "cell_type": "markdown",
   "metadata": {},
   "source": [
    "## Input\n",
    "The Input from Hackerrank here is non-trivial for a change, as it is not further explained. On Hackerrank, the Tree structure is given to us as input to our function in a Black Box."
   ]
  },
  {
   "cell_type": "code",
   "execution_count": 31,
   "metadata": {},
   "outputs": [],
   "source": [
    "from io import StringIO\n",
    "example_input_valid = lambda: StringIO('''2\n",
    "1 2 3 4 5 6 7''')\n",
    "example_input_valid_12 = lambda: StringIO('''3\n",
    "1 2 3 4 5 6 7 8 9 10 11 12 13 14 15''')\n",
    "example_input_invalid = lambda: StringIO('''2\n",
    "1 2 4 3 5 6 7''')"
   ]
  },
  {
   "cell_type": "code",
   "execution_count": 3,
   "metadata": {},
   "outputs": [],
   "source": [
    "class Node:\n",
    "    def __init__(self, data, left=None, right=None):\n",
    "        self.data = data\n",
    "        self.left = left\n",
    "        self.right = right\n",
    "        \n",
    "    def __repr__(self, depth=0):\n",
    "        buf = ['{}{}'.format('\\t' * depth, self.data)]\n",
    "        if self.left is not None:\n",
    "            buf.append(self.left.__repr__(depth=depth+1))\n",
    "        if self.right is not None:\n",
    "            buf.append(self.right.__repr__(depth=depth+1))\n",
    "        return '\\n'.join(buf)\n",
    "        "
   ]
  },
  {
   "cell_type": "code",
   "execution_count": 44,
   "metadata": {},
   "outputs": [],
   "source": [
    "def make_perfect_btree_node(heap, lower, higher, depth):\n",
    "    target_idx = int((higher + lower)/ 2)\n",
    "    if depth == 0:\n",
    "        return None\n",
    "    return Node(int(heap[target_idx]),\n",
    "               make_perfect_btree_node(heap, lower, target_idx, depth - 1),\n",
    "               make_perfect_btree_node(heap, target_idx, higher, depth - 1))\n",
    "\n",
    "def construct_perfect_btree_from_input(stream):\n",
    "    depth = int(stream.readline())\n",
    "    heap = stream.readline().split()\n",
    "    return make_perfect_btree_node(heap, 0, len(heap), depth + 1)"
   ]
  },
  {
   "cell_type": "code",
   "execution_count": 45,
   "metadata": {},
   "outputs": [
    {
     "data": {
      "text/plain": [
       "4\n",
       "\t2\n",
       "\t\t1\n",
       "\t\t3\n",
       "\t6\n",
       "\t\t5\n",
       "\t\t7"
      ]
     },
     "execution_count": 45,
     "metadata": {},
     "output_type": "execute_result"
    }
   ],
   "source": [
    "construct_perfect_btree_from_input(example_input_valid())"
   ]
  },
  {
   "cell_type": "code",
   "execution_count": 46,
   "metadata": {},
   "outputs": [
    {
     "data": {
      "text/plain": [
       "8\n",
       "\t4\n",
       "\t\t2\n",
       "\t\t\t1\n",
       "\t\t\t3\n",
       "\t\t6\n",
       "\t\t\t5\n",
       "\t\t\t7\n",
       "\t12\n",
       "\t\t10\n",
       "\t\t\t9\n",
       "\t\t\t11\n",
       "\t\t14\n",
       "\t\t\t13\n",
       "\t\t\t15"
      ]
     },
     "execution_count": 46,
     "metadata": {},
     "output_type": "execute_result"
    }
   ],
   "source": [
    "construct_perfect_btree_from_input(example_input_valid_12())"
   ]
  },
  {
   "cell_type": "markdown",
   "metadata": {},
   "source": [
    "## Solution"
   ]
  },
  {
   "cell_type": "markdown",
   "metadata": {},
   "source": [
    "### Naively following the Definition\n",
    "A simple way to approach this is to simply follow the Definition written in the Challenge description. It can be implemented recursively as follows"
   ]
  },
  {
   "cell_type": "code",
   "execution_count": 47,
   "metadata": {},
   "outputs": [],
   "source": [
    "def get_vals(root, arr = []):\n",
    "  if root is None:\n",
    "    return []\n",
    "  arr.append(root.data)\n",
    "  get_vals(root.left, arr)\n",
    "  get_vals(root.right, arr)\n",
    "  return arr\n",
    "    \n",
    "\n",
    "def __check_bst(root, depth = 0):\n",
    "  if root is None:\n",
    "    return True\n",
    "  left = get_vals(root.left, [])\n",
    "  rite = get_vals(root.right, [])\n",
    "  if all(map(lambda x: root.data > x, left)) and all(map(lambda x: root.data < x, rite)):\n",
    "    return all([__check_bst(root.left, depth = depth + 1), __check_bst(root.right, depth = depth + 1)])\n",
    "  else:\n",
    "    return False\n",
    "  \n",
    "def has_duplicates(root):\n",
    "  values = get_vals(root)\n",
    "  # set() only contains unique elements\n",
    "  return len(values) != len(set(values))\n",
    "\n",
    "\n",
    "def checkBST(root):\n",
    "  # Are we given only one single Node? This is a valid BST.\n",
    "  if root.left is None and root.right is None:\n",
    "    return True\n",
    "  # Are there any duplicates in the Tree? This is disallowed\n",
    "  # according to the challenge description.\n",
    "  if has_duplicates(root):\n",
    "    return False\n",
    "\n",
    "  # Otherwise, recursively check if the left side of the tree\n",
    "  # is smaller than the current node, and the right side bigger.\n",
    "  return __check_bst(root)"
   ]
  },
  {
   "cell_type": "code",
   "execution_count": 48,
   "metadata": {},
   "outputs": [
    {
     "data": {
      "text/plain": [
       "True"
      ]
     },
     "execution_count": 48,
     "metadata": {},
     "output_type": "execute_result"
    }
   ],
   "source": [
    "checkBST(construct_perfect_btree_from_input(example_input_valid()))"
   ]
  },
  {
   "cell_type": "code",
   "execution_count": 49,
   "metadata": {},
   "outputs": [
    {
     "data": {
      "text/plain": [
       "False"
      ]
     },
     "execution_count": 49,
     "metadata": {},
     "output_type": "execute_result"
    }
   ],
   "source": [
    "checkBST(construct_perfect_btree_from_input(example_input_invalid()))"
   ]
  },
  {
   "cell_type": "markdown",
   "metadata": {},
   "source": [
    "### Using upper and lower Bounds\n",
    "We can refrain from traversing the tree's children in order to get the elements in each recursion. We're actually only interested in the upper and lower bounds the node value must be confined in. We start with -Inf and +Inf as the Bounds, and adjust the upper bound to be the Node value if we travel to the left, or the lower bound to be the Node value if we travel to the right"
   ]
  },
  {
   "cell_type": "code",
   "execution_count": 57,
   "metadata": {},
   "outputs": [],
   "source": [
    "def __check_bst_bounds(root, lower, upper):\n",
    "    if root is None:\n",
    "        return True\n",
    "    if root.data > lower and root.data < upper:\n",
    "        return __check_bst_bounds(root.left, lower, root.data) and __check_bst_bounds(root.right, root.data, upper)\n",
    "    else: return False\n",
    "\n",
    "def checkBST_bounds(root):\n",
    "    return __check_bst_bounds(root, float('-inf'), float('+inf'))\n",
    "    "
   ]
  },
  {
   "cell_type": "code",
   "execution_count": 58,
   "metadata": {},
   "outputs": [
    {
     "data": {
      "text/plain": [
       "True"
      ]
     },
     "execution_count": 58,
     "metadata": {},
     "output_type": "execute_result"
    }
   ],
   "source": [
    "checkBST_bounds(construct_perfect_btree_from_input(example_input_valid()))"
   ]
  },
  {
   "cell_type": "code",
   "execution_count": 59,
   "metadata": {},
   "outputs": [
    {
     "data": {
      "text/plain": [
       "False"
      ]
     },
     "execution_count": 59,
     "metadata": {},
     "output_type": "execute_result"
    }
   ],
   "source": [
    "checkBST_bounds(construct_perfect_btree_from_input(example_input_invalid()))"
   ]
  },
  {
   "cell_type": "markdown",
   "metadata": {},
   "source": [
    "## Using the Infix Property\n",
    "Here's another way to tackle this: valid BST's have the property that they print a sorted list if they are printed in infix notation. We can use this in order to check if we have a valid BST."
   ]
  },
  {
   "cell_type": "code",
   "execution_count": 66,
   "metadata": {},
   "outputs": [],
   "source": [
    "def __infix(node, acc):\n",
    "    if node is None:\n",
    "        return\n",
    "    __infix(node.left, acc)\n",
    "    acc.append(node.data)\n",
    "    __infix(node.right, acc)\n",
    "    return acc\n",
    "\n",
    "def checkBST_infix(root):\n",
    "    infix = __infix(root, [])\n",
    "    return len(infix) == len(set(infix)) and sorted(infix) == infix\n",
    "    "
   ]
  },
  {
   "cell_type": "code",
   "execution_count": 67,
   "metadata": {},
   "outputs": [
    {
     "data": {
      "text/plain": [
       "True"
      ]
     },
     "execution_count": 67,
     "metadata": {},
     "output_type": "execute_result"
    }
   ],
   "source": [
    "checkBST_infix(construct_perfect_btree_from_input(example_input_valid()))"
   ]
  },
  {
   "cell_type": "code",
   "execution_count": 68,
   "metadata": {},
   "outputs": [
    {
     "data": {
      "text/plain": [
       "False"
      ]
     },
     "execution_count": 68,
     "metadata": {},
     "output_type": "execute_result"
    }
   ],
   "source": [
    "checkBST_infix(construct_perfect_btree_from_input(example_input_invalid()))"
   ]
  },
  {
   "cell_type": "code",
   "execution_count": null,
   "metadata": {},
   "outputs": [],
   "source": []
  }
 ],
 "metadata": {
  "kernelspec": {
   "display_name": "Python 3",
   "language": "python",
   "name": "python3"
  },
  "language_info": {
   "codemirror_mode": {
    "name": "ipython",
    "version": 3
   },
   "file_extension": ".py",
   "mimetype": "text/x-python",
   "name": "python",
   "nbconvert_exporter": "python",
   "pygments_lexer": "ipython3",
   "version": "3.6.2"
  }
 },
 "nbformat": 4,
 "nbformat_minor": 2
}
